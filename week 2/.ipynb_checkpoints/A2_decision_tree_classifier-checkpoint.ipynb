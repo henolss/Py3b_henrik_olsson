{
 "cells": [
  {
   "cell_type": "markdown",
   "id": "34ea0e97",
   "metadata": {},
   "source": [
    "<div style=\"background: black; padding: 10px 250px\"><img src=\"https://www.veldikompetens.se/wp-content/themes/consid/static/icons/VeldiKompetens_Logo_Web_Negative.svg\" title=\"Veldi kompetens\" /></div>\n",
    "\n",
    "# Assignment 2\n",
    "\n",
    "Welcome to your machine learning assignment! In this assignment, you will dive into the exciting world of classification tasks using a decision tree classifier. We will be using Python and the scikit-learn library to perform these tasks.\n",
    "\n",
    "In this assignment I will use the iris dataset, split it into training and testing sets, create a decision tree classifier, train the model on the training set, make predictions on the testing set, and then evaluate the performance of the model using metrics such as accuracy, precision, recall, and F1 score. After that, you will try to do the same thing with a database of wines and train a model to determine the quality based on 11 parameters per wine.\n",
    "\n",
    "The Iris Species dataset can be [found here](https://www.kaggle.com/datasets/uciml/iris)\n"
   ]
  },
  {
   "cell_type": "markdown",
   "id": "3d4ff2e5",
   "metadata": {},
   "source": [
    "## Part 1 - How it's done\n",
    "\n",
    "In this part I will demonstrate how to train a model on existing data by loading the dataset, splitting it into training and testing sets, create a decision tree classifier, train the model on the training set, make predictions on the testing set, and then evaluate the performance of the model using metrics such as accuracy, precision, recall, and F1 score."
   ]
  },
  {
   "cell_type": "markdown",
   "id": "f2b900ca",
   "metadata": {},
   "source": [
    "### 1. Import the required libraries\n",
    "\n",
    "In this code, I import the necessary libraries and modules to work with machine learning classification tasks using a decision tree classifier. I use the scikit-learn library, which is a popular choice for machine learning in Python.\n",
    "\n",
    "Firstly, I import the `load_iris` function from the `sklearn.datasets module`. This function allows me to load the Iris dataset, which is commonly used for classification tasks.\n",
    "\n",
    "Next, I import the `train_test_split` function from the `sklearn.model_selection module`. This function helps me split the dataset into training and testing subsets, ensuring that I can evaluate the performance of my classifier accurately.\n",
    "\n",
    "I also import the `DecisionTreeClassifier` class from the `sklearn.tree` module. This class provides the functionality to create and train a decision tree classifier, which is a powerful algorithm for classification tasks.\n",
    "\n",
    "To assess the performance of my classifier, I import several evaluation metrics from the `sklearn.metrics` module. These metrics include `accuracy_score`, `precision_score`, `recall_score`, and `f1_score`, which will help me measure the effectiveness of my model.\n",
    "\n",
    "Use your preferred search engine to find information about any other libraries that you don't recognize.\n",
    "\n",
    "If you get the error `No module named '...'` you need to install a package. Just read the error to see which module is missing, look it up online, and install the package it is part of."
   ]
  },
  {
   "cell_type": "code",
   "execution_count": 45,
   "id": "72d93909",
   "metadata": {
    "scrolled": true
   },
   "outputs": [],
   "source": [
    "# Import required libraries\n",
    "from sklearn.datasets import load_iris\n",
    "from sklearn.model_selection import train_test_split\n",
    "from sklearn.tree import DecisionTreeClassifier\n",
    "from sklearn.metrics import accuracy_score, precision_score, recall_score, f1_score\n",
    "import matplotlib.pyplot as plt\n",
    "import numpy as np\n",
    "import itertools\n",
    "\n",
    "\n",
    "# Required for part 2\n",
    "import pandas as pd\n",
    "from sklearn.tree import DecisionTreeRegressor\n",
    "from sklearn.svm import SVC\n",
    "from sklearn.neighbors import KNeighborsClassifier\n",
    "from sklearn.metrics import confusion_matrix, classification_report\n",
    "from imblearn.over_sampling import SMOTE\n",
    "from sklearn.preprocessing import StandardScaler"
   ]
  },
  {
   "cell_type": "markdown",
   "id": "9761d7d0",
   "metadata": {},
   "source": [
    "### 2. Load or generate the data that you want to use to train the model and split it into training and testing sets\n",
    "\n",
    "\n",
    "In this code, I load the Iris dataset, which is a well-known dataset frequently used in machine learning. The dataset contains measurements of different iris flowers.\n",
    "\n",
    "To load the dataset, I assign the `load_iris()` function to the variable `iris`. This function is part of the `scikit-learn` library and allows me to load the Iris dataset conveniently.\n",
    "\n",
    "Next, I extract the input features from the dataset and assign them to the variable `X`. These features include the measurements of the iris flowers, such as the length and width of the sepals and petals.\n",
    "\n",
    "Similarly, I extract the target labels from the dataset and assign them to the variable `y`. These labels represent the different species of iris flowers that we want to classify.\n",
    "\n",
    "By loading the dataset and separating the input features (`X`) and target labels (`y`), I am ready to explore and apply machine learning algorithms to classify the iris flowers based on their measurements. Let's continue our learning journey!"
   ]
  },
  {
   "cell_type": "code",
   "execution_count": 46,
   "id": "cf444075",
   "metadata": {},
   "outputs": [],
   "source": [
    "# Load dataset\n",
    "iris = load_iris()\n",
    "X = iris.data\n",
    "y = iris.target"
   ]
  },
  {
   "cell_type": "markdown",
   "id": "fad4770a",
   "metadata": {},
   "source": [
    "### 3. Split data into training and testing sets\n",
    "\n",
    "In this code, I split the dataset into training and testing sets. This step is crucial to evaluate the performance of our machine learning model accurately.\n",
    "\n",
    "To split the dataset, I use the `train_test_split` function from the `scikit-learn` library. This function takes the input features (`X`) and target labels (`y`) as input and splits them into four separate subsets: `X_train`, `X_test`, `y_train`, and `y_test`.\n",
    "\n",
    "The test_size parameter is set to 0.2, which means that 20% of the data will be reserved for testing, while 80% will be used for training. Adjusting the `test_size` parameter allows us to control the size of the testing set.\n",
    "\n",
    "Additionally, I set the random_state parameter to 12. This ensures that the data is split in a consistent manner, meaning that every time I run the code, the same split will be generated. This is helpful for reproducibility and comparing results.\n",
    "\n",
    "By splitting the dataset into training and testing sets, we can train our machine learning model on the training data and then evaluate its performance on the unseen testing data. This helps us understand how well our model generalizes to new, unseen samples. Let's move forward and continue our machine learning journey!"
   ]
  },
  {
   "cell_type": "code",
   "execution_count": 47,
   "id": "f46be8ce",
   "metadata": {},
   "outputs": [],
   "source": [
    "# Split dataset into training and testing sets\n",
    "X_train, X_test, y_train, y_test = train_test_split(X, y, test_size=0.2, random_state=12)"
   ]
  },
  {
   "cell_type": "markdown",
   "id": "15d1ceae",
   "metadata": {},
   "source": [
    "### 4. Create an instance of the DecisionTreeRegressor class and fit the model to the training data\n",
    "\n",
    "In this code, I create a decision tree classifier and train it using the training set.\n",
    "\n",
    "To create the decision tree classifier, I instantiate an object of the `DecisionTreeClassifier` class from the `scikit-learn` library. This classifier is a powerful algorithm that can learn decision rules from the training data to make predictions.\n",
    "\n",
    "Next, I train the decision tree classifier using the `fit` method. I provide the training data (`X_train`) and the corresponding target labels (`y_train`) as input to the fit method. This allows the classifier to learn patterns and relationships between the input features and the target labels in the training set.\n",
    "\n",
    "By training the decision tree classifier, we enable it to make predictions based on the learned patterns. The model will now be able to classify new, unseen instances based on the features it has learned during the training phase.\n",
    "\n",
    "Now that our decision tree classifier is trained and ready, we can move on to the next step, which is evaluating its performance on the testing set. Let's continue exploring and analyzing our machine learning model!"
   ]
  },
  {
   "cell_type": "code",
   "execution_count": 48,
   "id": "7f0f409d",
   "metadata": {
    "scrolled": true
   },
   "outputs": [
    {
     "data": {
      "text/html": [
       "<style>#sk-container-id-3 {color: black;background-color: white;}#sk-container-id-3 pre{padding: 0;}#sk-container-id-3 div.sk-toggleable {background-color: white;}#sk-container-id-3 label.sk-toggleable__label {cursor: pointer;display: block;width: 100%;margin-bottom: 0;padding: 0.3em;box-sizing: border-box;text-align: center;}#sk-container-id-3 label.sk-toggleable__label-arrow:before {content: \"▸\";float: left;margin-right: 0.25em;color: #696969;}#sk-container-id-3 label.sk-toggleable__label-arrow:hover:before {color: black;}#sk-container-id-3 div.sk-estimator:hover label.sk-toggleable__label-arrow:before {color: black;}#sk-container-id-3 div.sk-toggleable__content {max-height: 0;max-width: 0;overflow: hidden;text-align: left;background-color: #f0f8ff;}#sk-container-id-3 div.sk-toggleable__content pre {margin: 0.2em;color: black;border-radius: 0.25em;background-color: #f0f8ff;}#sk-container-id-3 input.sk-toggleable__control:checked~div.sk-toggleable__content {max-height: 200px;max-width: 100%;overflow: auto;}#sk-container-id-3 input.sk-toggleable__control:checked~label.sk-toggleable__label-arrow:before {content: \"▾\";}#sk-container-id-3 div.sk-estimator input.sk-toggleable__control:checked~label.sk-toggleable__label {background-color: #d4ebff;}#sk-container-id-3 div.sk-label input.sk-toggleable__control:checked~label.sk-toggleable__label {background-color: #d4ebff;}#sk-container-id-3 input.sk-hidden--visually {border: 0;clip: rect(1px 1px 1px 1px);clip: rect(1px, 1px, 1px, 1px);height: 1px;margin: -1px;overflow: hidden;padding: 0;position: absolute;width: 1px;}#sk-container-id-3 div.sk-estimator {font-family: monospace;background-color: #f0f8ff;border: 1px dotted black;border-radius: 0.25em;box-sizing: border-box;margin-bottom: 0.5em;}#sk-container-id-3 div.sk-estimator:hover {background-color: #d4ebff;}#sk-container-id-3 div.sk-parallel-item::after {content: \"\";width: 100%;border-bottom: 1px solid gray;flex-grow: 1;}#sk-container-id-3 div.sk-label:hover label.sk-toggleable__label {background-color: #d4ebff;}#sk-container-id-3 div.sk-serial::before {content: \"\";position: absolute;border-left: 1px solid gray;box-sizing: border-box;top: 0;bottom: 0;left: 50%;z-index: 0;}#sk-container-id-3 div.sk-serial {display: flex;flex-direction: column;align-items: center;background-color: white;padding-right: 0.2em;padding-left: 0.2em;position: relative;}#sk-container-id-3 div.sk-item {position: relative;z-index: 1;}#sk-container-id-3 div.sk-parallel {display: flex;align-items: stretch;justify-content: center;background-color: white;position: relative;}#sk-container-id-3 div.sk-item::before, #sk-container-id-3 div.sk-parallel-item::before {content: \"\";position: absolute;border-left: 1px solid gray;box-sizing: border-box;top: 0;bottom: 0;left: 50%;z-index: -1;}#sk-container-id-3 div.sk-parallel-item {display: flex;flex-direction: column;z-index: 1;position: relative;background-color: white;}#sk-container-id-3 div.sk-parallel-item:first-child::after {align-self: flex-end;width: 50%;}#sk-container-id-3 div.sk-parallel-item:last-child::after {align-self: flex-start;width: 50%;}#sk-container-id-3 div.sk-parallel-item:only-child::after {width: 0;}#sk-container-id-3 div.sk-dashed-wrapped {border: 1px dashed gray;margin: 0 0.4em 0.5em 0.4em;box-sizing: border-box;padding-bottom: 0.4em;background-color: white;}#sk-container-id-3 div.sk-label label {font-family: monospace;font-weight: bold;display: inline-block;line-height: 1.2em;}#sk-container-id-3 div.sk-label-container {text-align: center;}#sk-container-id-3 div.sk-container {/* jupyter's `normalize.less` sets `[hidden] { display: none; }` but bootstrap.min.css set `[hidden] { display: none !important; }` so we also need the `!important` here to be able to override the default hidden behavior on the sphinx rendered scikit-learn.org. See: https://github.com/scikit-learn/scikit-learn/issues/21755 */display: inline-block !important;position: relative;}#sk-container-id-3 div.sk-text-repr-fallback {display: none;}</style><div id=\"sk-container-id-3\" class=\"sk-top-container\"><div class=\"sk-text-repr-fallback\"><pre>DecisionTreeClassifier()</pre><b>In a Jupyter environment, please rerun this cell to show the HTML representation or trust the notebook. <br />On GitHub, the HTML representation is unable to render, please try loading this page with nbviewer.org.</b></div><div class=\"sk-container\" hidden><div class=\"sk-item\"><div class=\"sk-estimator sk-toggleable\"><input class=\"sk-toggleable__control sk-hidden--visually\" id=\"sk-estimator-id-3\" type=\"checkbox\" checked><label for=\"sk-estimator-id-3\" class=\"sk-toggleable__label sk-toggleable__label-arrow\">DecisionTreeClassifier</label><div class=\"sk-toggleable__content\"><pre>DecisionTreeClassifier()</pre></div></div></div></div></div>"
      ],
      "text/plain": [
       "DecisionTreeClassifier()"
      ]
     },
     "execution_count": 48,
     "metadata": {},
     "output_type": "execute_result"
    }
   ],
   "source": [
    "# Create decision tree classifier\n",
    "clf = DecisionTreeClassifier()\n",
    "\n",
    "# Train the model on the training set\n",
    "clf.fit(X_train, y_train)"
   ]
  },
  {
   "cell_type": "markdown",
   "id": "88c0e161",
   "metadata": {},
   "source": [
    "### 5. Make predictions on the testing set\n",
    "\n",
    "In this code, I use the trained decision tree classifier to make predictions on the testing set.\n",
    "\n",
    "After training the decision tree classifier, I apply it to the testing data using the predict method. The predict method takes the testing data (`X_test`) as input and returns the predicted labels for these instances.\n",
    "\n",
    "I store the predicted labels in the variable `y_pred`. These predicted labels represent the model's predictions for the corresponding instances in the testing set.\n",
    "\n",
    "By making predictions on the testing set, we can evaluate how well our trained model performs on unseen data. This step allows us to assess the model's ability to generalize and make accurate predictions on instances it has not encountered during the training phase.\n",
    "\n",
    "Now that we have obtained the predictions, we can proceed to evaluate the performance of our decision tree classifier using various evaluation metrics. Let's continue our analysis and see how well our model has performed!"
   ]
  },
  {
   "cell_type": "code",
   "execution_count": 49,
   "id": "f5283bd4",
   "metadata": {},
   "outputs": [],
   "source": [
    "# Make predictions on the testing set\n",
    "y_pred = clf.predict(X_test)"
   ]
  },
  {
   "cell_type": "markdown",
   "id": "8f06d5c2",
   "metadata": {},
   "source": [
    "### 6. Evaluate the performance of the model using accuracy, precision, recall, and F1 score\n",
    "\n",
    "In this code, I calculate various evaluation metrics, such as accuracy, precision, recall, and F1 score, to assess the performance of our trained decision tree classifier on the testing set.\n",
    "\n",
    "First, I use the `accuracy_score` function from the `scikit-learn` library to calculate the accuracy of our model's predictions. The `accuracy_score` function takes the true labels (`y_test`) and the predicted labels (`y_pred`) as input and returns the accuracy, which is the proportion of correct predictions.\n",
    "\n",
    "Next, I calculate the precision, recall, and F1 score using the `precision_score`, `recall_score`, and `f1_score` functions, respectively. These metrics provide additional insights into the performance of our model. The `average='weighted'` parameter ensures that we calculate these metrics by considering the weighted average across all classes, taking into account the support for each class.\n",
    "\n",
    "After calculating the metrics, I print them using the `print` function. This allows us to see the values of accuracy, precision, recall, and F1 score, which provide a comprehensive overview of the performance of our decision tree classifier.\n",
    "\n",
    "By evaluating these metrics, we can assess how well our model has performed in terms of correctly classifying the instances in the testing set. This analysis helps us understand the strengths and weaknesses of our trained model and guides us in making further improvements.\n",
    "\n",
    "Keep up the great work! Now you have a deeper understanding of how to evaluate the performance of a machine learning model."
   ]
  },
  {
   "cell_type": "code",
   "execution_count": 50,
   "id": "f6b93ba1",
   "metadata": {},
   "outputs": [
    {
     "name": "stdout",
     "output_type": "stream",
     "text": [
      "Accuracy: 0.93333\n",
      "Precision: 0.94545\n",
      "Recall: 0.93333\n",
      "F1 Score: 0.9325\n"
     ]
    }
   ],
   "source": [
    "# Calculate metrics such as accuracy, precision, recall, and F1 score\n",
    "def eval_performance(y_tst, y_prd):\n",
    "    accuracy = accuracy_score(y_tst, y_prd)\n",
    "    precision = precision_score(y_tst, y_prd, average='weighted')\n",
    "    recall = recall_score(y_tst, y_prd, average='weighted')\n",
    "    f1 = f1_score(y_tst, y_prd, average='weighted')\n",
    "\n",
    "    # Print the metrics\n",
    "    print(f\"Accuracy: {accuracy:.5f}\")\n",
    "    print(f\"Precision: {precision:.5f}\")\n",
    "    print(f\"Recall: {recall:.5f}\")\n",
    "    print(f\"F1 Score: {f1:.5}\")\n",
    "\n",
    "eval_performance(y_test, y_pred)"
   ]
  },
  {
   "cell_type": "markdown",
   "id": "6efc771e",
   "metadata": {},
   "source": [
    "### 7. Confusion matrix\n",
    "\n",
    "Another useful thing you might want to do is to display the **Confusion Matrix** for your predictions. The confusion matrix is a 2 dimensional array comparing predicted category labels to the true label.\n",
    "\n",
    "This gives you a lot of insight on which cases your model have a harder time predicting and where it is strong. \n",
    "\n",
    "You will use this to compare your trained models later in this assignment.\n",
    "\n",
    "This function `create_confusion_matrix` takes 3 arguments plus an additional optional argument.\n",
    "\n",
    "- `y_true` is an array of the true labels in your testing data.\n",
    "- `y_pred` is an array of the predicted labels by your model\n",
    "- `num_classes` is the number of total classes in your dataset\n",
    "- `title` (optional): is the title to show at the top of the plot"
   ]
  },
  {
   "cell_type": "code",
   "execution_count": 51,
   "id": "9e0d5b60",
   "metadata": {},
   "outputs": [],
   "source": [
    "# Function for plotting confusion metrics\n",
    "def create_confusion_matrix(y_true, y_pred, num_classes, title='Confusion matrix'):\n",
    "    # Compute the confusion matrix\n",
    "    cm = confusion_matrix(y_true, y_pred)\n",
    "    \n",
    "    # Create a new figure for the plot\n",
    "    plt.figure(figsize=(5,5))\n",
    "    \n",
    "    # Display the confusion matrix as an image\n",
    "    plt.imshow(cm, interpolation='nearest', cmap='Blues')\n",
    "    \n",
    "    # Set the title of the plot\n",
    "    plt.title(title, size=15)\n",
    "    \n",
    "    # Add a colorbar to the plot\n",
    "    plt.colorbar()\n",
    "    \n",
    "    # Create an array of tick marks for the x-axis\n",
    "    tick_marks = np.arange(num_classes)\n",
    "    \n",
    "    # Set the tick marks and labels for the x-axis\n",
    "    plt.xticks(tick_marks, [str(i) for i in range(num_classes)], rotation=45, size=10)\n",
    "    \n",
    "    # Set the tick marks and labels for the y-axis\n",
    "    plt.yticks(tick_marks, [str(i) for i in range(num_classes)], size=10)\n",
    "    \n",
    "    # Adjust the subplot parameters to fit the plot area\n",
    "    plt.tight_layout()\n",
    "    \n",
    "    # Set the label for the y-axis\n",
    "    plt.ylabel('Actual label', size=15)\n",
    "    \n",
    "    # Set the label for the x-axis\n",
    "    plt.xlabel('Predicted label', size=15)\n",
    "    \n",
    "    # Get the dimensions of the confusion matrix\n",
    "    width, height = cm.shape\n",
    "    \n",
    "    # Add annotations to each cell of the confusion matrix\n",
    "    for x in range(width):\n",
    "        for y in range(height):\n",
    "            plt.annotate(\n",
    "                str(cm[x][y]), xy=(y, x), \n",
    "                horizontalalignment='center',\n",
    "                verticalalignment='center'\n",
    "            )"
   ]
  },
  {
   "cell_type": "markdown",
   "id": "647c2d28",
   "metadata": {},
   "source": [
    "You can use this function by calling it with the correct arguments like this:"
   ]
  },
  {
   "cell_type": "code",
   "execution_count": 52,
   "id": "3ebdbdb2",
   "metadata": {},
   "outputs": [
    {
     "data": {
      "image/png": "[encoded data removed]",
      "text/plain": [
       "<Figure size 500x500 with 2 Axes>"
      ]
     },
     "metadata": {},
     "output_type": "display_data"
    }
   ],
   "source": [
    "# Plot the confusion matrix\n",
    "create_confusion_matrix(y_test, y_pred, 3)"
   ]
  },
  {
   "cell_type": "markdown",
   "id": "eeca886b",
   "metadata": {},
   "source": [
    "The labels (1, 2, and 3) represents the labels of the dataset, which you can get by running the following code:"
   ]
  },
  {
   "cell_type": "code",
   "execution_count": 53,
   "id": "552c18f3",
   "metadata": {},
   "outputs": [
    {
     "name": "stdout",
     "output_type": "stream",
     "text": [
      "0 => setosa\n",
      "1 => versicolor\n",
      "2 => virginica\n"
     ]
    }
   ],
   "source": [
    "for i, name in enumerate(iris.target_names):\n",
    "    print(f\"{i} => {name}\")"
   ]
  },
  {
   "cell_type": "markdown",
   "id": "094891da",
   "metadata": {},
   "source": [
    "### 8. Visualizing the metrics\n",
    "\n",
    "We can visualize the metrics like this. In this code I create a bar chart using matplotlib and the `plt.bar()`-function.\n",
    "\n",
    "This is a good way to see if any of the metrix deviates from the rest or if all of them reach the top of the chart."
   ]
  },
  {
   "cell_type": "code",
   "execution_count": 54,
   "id": "b5f59d3a",
   "metadata": {},
   "outputs": [
    {
     "data": {
      "image/png": "[encoded data removed]",
      "text/plain": [
       "<Figure size 640x480 with 1 Axes>"
      ]
     },
     "metadata": {},
     "output_type": "display_data"
    }
   ],
   "source": [
    "# Create a list of metric names and scores\n",
    "metrics = ['Accuracy', 'Precision', 'Recall', 'F1 Score']\n",
    "scores = [accuracy, precision, recall, f1]\n",
    "\n",
    "# Plot the bar chart\n",
    "plt.bar(metrics, scores)\n",
    "plt.xlabel('Metrics')\n",
    "plt.ylabel('Scores')\n",
    "plt.title('Model Performance Metrics')\n",
    "plt.show()"
   ]
  },
  {
   "cell_type": "markdown",
   "id": "deecc42b",
   "metadata": {},
   "source": [
    "### 9. Classification report\n",
    "\n",
    "We can also use the function `classification_report()` to get more information about how our model performed. Like this:"
   ]
  },
  {
   "cell_type": "code",
   "execution_count": 55,
   "id": "33701f04",
   "metadata": {
    "scrolled": true
   },
   "outputs": [
    {
     "name": "stdout",
     "output_type": "stream",
     "text": [
      "              precision    recall  f1-score   support\n",
      "\n",
      "           0       1.00      1.00      1.00        12\n",
      "           1       1.00      0.78      0.88         9\n",
      "           2       0.82      1.00      0.90         9\n",
      "\n",
      "    accuracy                           0.93        30\n",
      "   macro avg       0.94      0.93      0.92        30\n",
      "weighted avg       0.95      0.93      0.93        30\n",
      "\n"
     ]
    }
   ],
   "source": [
    "print(classification_report(y_test, y_pred))"
   ]
  },
  {
   "cell_type": "markdown",
   "id": "19ab5a08",
   "metadata": {},
   "source": [
    "## 2. Your turn\n",
    "\n",
    "Welcome to the next step of your machine learning journey! In this assignment, you will have the opportunity to work with the Red Wine Quality dataset from Kaggle. This dataset contains various chemical properties of red wine samples, along with their corresponding quality ratings.\n",
    "\n",
    "Your task is to apply machine learning techniques to build a model that can predict the quality of red wine based on its chemical attributes. By analyzing this dataset, you will gain hands-on experience in classification tasks and understand how different chemical components contribute to the overall quality of red wine.\n",
    "\n",
    "Throughout this assignment, you will be using Python and the scikit-learn library, which provides a wide range of machine learning algorithms and evaluation metrics. You will learn how to preprocess the data, split it into training and testing sets, train a classification model, make predictions, and evaluate the model's performance using various metrics.\n",
    "\n",
    "By the end of this assignment, you will have a solid understanding of the entire machine learning pipeline, from data preprocessing to model evaluation. You will also gain valuable insights into the factors influencing red wine quality.\n",
    "\n",
    "So, let's dive in and uncork the mysteries of red wine quality prediction using machine learning!\n",
    "\n",
    "The dataset can be found here: [Kaggle.com Red Wine Quality](https://www.kaggle.com/datasets/uciml/red-wine-quality-cortez-et-al-2009)"
   ]
  },
  {
   "cell_type": "markdown",
   "id": "8dc35869",
   "metadata": {},
   "source": [
    "### 1. Load necessary data \n",
    "\n",
    "- Download the data from the link, move it to the right place on computer and load it with `read_csv`\n",
    "\n",
    "- Use `df.head()` and `df.describe()` to explore the dataset"
   ]
  },
  {
   "cell_type": "code",
   "execution_count": 56,
   "id": "03705f37",
   "metadata": {},
   "outputs": [
    {
     "name": "stdout",
     "output_type": "stream",
     "text": [
      "   fixed acidity  volatile acidity  citric acid  residual sugar  chlorides  \\\n",
      "0            7.4              0.70         0.00             1.9      0.076   \n",
      "1            7.8              0.88         0.00             2.6      0.098   \n",
      "2            7.8              0.76         0.04             2.3      0.092   \n",
      "3           11.2              0.28         0.56             1.9      0.075   \n",
      "4            7.4              0.70         0.00             1.9      0.076   \n",
      "\n",
      "   free sulfur dioxide  total sulfur dioxide  density    pH  sulphates  \\\n",
      "0                 11.0                  34.0   0.9978  3.51       0.56   \n",
      "1                 25.0                  67.0   0.9968  3.20       0.68   \n",
      "2                 15.0                  54.0   0.9970  3.26       0.65   \n",
      "3                 17.0                  60.0   0.9980  3.16       0.58   \n",
      "4                 11.0                  34.0   0.9978  3.51       0.56   \n",
      "\n",
      "   alcohol  quality  \n",
      "0      9.4        5  \n",
      "1      9.8        5  \n",
      "2      9.8        5  \n",
      "3      9.8        6  \n",
      "4      9.4        5  \n"
     ]
    },
    {
     "data": {
      "text/html": [
       "<div>\n",
       "<style scoped>\n",
       "    .dataframe tbody tr th:only-of-type {\n",
       "        vertical-align: middle;\n",
       "    }\n",
       "\n",
       "    .dataframe tbody tr th {\n",
       "        vertical-align: top;\n",
       "    }\n",
       "\n",
       "    .dataframe thead th {\n",
       "        text-align: right;\n",
       "    }\n",
       "</style>\n",
       "<table border=\"1\" class=\"dataframe\">\n",
       "  <thead>\n",
       "    <tr style=\"text-align: right;\">\n",
       "      <th></th>\n",
       "      <th>fixed acidity</th>\n",
       "      <th>volatile acidity</th>\n",
       "      <th>citric acid</th>\n",
       "      <th>residual sugar</th>\n",
       "      <th>chlorides</th>\n",
       "      <th>free sulfur dioxide</th>\n",
       "      <th>total sulfur dioxide</th>\n",
       "      <th>density</th>\n",
       "      <th>pH</th>\n",
       "      <th>sulphates</th>\n",
       "      <th>alcohol</th>\n",
       "      <th>quality</th>\n",
       "    </tr>\n",
       "  </thead>\n",
       "  <tbody>\n",
       "    <tr>\n",
       "      <th>count</th>\n",
       "      <td>1599.000000</td>\n",
       "      <td>1599.000000</td>\n",
       "      <td>1599.000000</td>\n",
       "      <td>1599.000000</td>\n",
       "      <td>1599.000000</td>\n",
       "      <td>1599.000000</td>\n",
       "      <td>1599.000000</td>\n",
       "      <td>1599.000000</td>\n",
       "      <td>1599.000000</td>\n",
       "      <td>1599.000000</td>\n",
       "      <td>1599.000000</td>\n",
       "      <td>1599.000000</td>\n",
       "    </tr>\n",
       "    <tr>\n",
       "      <th>mean</th>\n",
       "      <td>8.319637</td>\n",
       "      <td>0.527821</td>\n",
       "      <td>0.270976</td>\n",
       "      <td>2.538806</td>\n",
       "      <td>0.087467</td>\n",
       "      <td>15.874922</td>\n",
       "      <td>46.467792</td>\n",
       "      <td>0.996747</td>\n",
       "      <td>3.311113</td>\n",
       "      <td>0.658149</td>\n",
       "      <td>10.422983</td>\n",
       "      <td>5.636023</td>\n",
       "    </tr>\n",
       "    <tr>\n",
       "      <th>std</th>\n",
       "      <td>1.741096</td>\n",
       "      <td>0.179060</td>\n",
       "      <td>0.194801</td>\n",
       "      <td>1.409928</td>\n",
       "      <td>0.047065</td>\n",
       "      <td>10.460157</td>\n",
       "      <td>32.895324</td>\n",
       "      <td>0.001887</td>\n",
       "      <td>0.154386</td>\n",
       "      <td>0.169507</td>\n",
       "      <td>1.065668</td>\n",
       "      <td>0.807569</td>\n",
       "    </tr>\n",
       "    <tr>\n",
       "      <th>min</th>\n",
       "      <td>4.600000</td>\n",
       "      <td>0.120000</td>\n",
       "      <td>0.000000</td>\n",
       "      <td>0.900000</td>\n",
       "      <td>0.012000</td>\n",
       "      <td>1.000000</td>\n",
       "      <td>6.000000</td>\n",
       "      <td>0.990070</td>\n",
       "      <td>2.740000</td>\n",
       "      <td>0.330000</td>\n",
       "      <td>8.400000</td>\n",
       "      <td>3.000000</td>\n",
       "    </tr>\n",
       "    <tr>\n",
       "      <th>25%</th>\n",
       "      <td>7.100000</td>\n",
       "      <td>0.390000</td>\n",
       "      <td>0.090000</td>\n",
       "      <td>1.900000</td>\n",
       "      <td>0.070000</td>\n",
       "      <td>7.000000</td>\n",
       "      <td>22.000000</td>\n",
       "      <td>0.995600</td>\n",
       "      <td>3.210000</td>\n",
       "      <td>0.550000</td>\n",
       "      <td>9.500000</td>\n",
       "      <td>5.000000</td>\n",
       "    </tr>\n",
       "    <tr>\n",
       "      <th>50%</th>\n",
       "      <td>7.900000</td>\n",
       "      <td>0.520000</td>\n",
       "      <td>0.260000</td>\n",
       "      <td>2.200000</td>\n",
       "      <td>0.079000</td>\n",
       "      <td>14.000000</td>\n",
       "      <td>38.000000</td>\n",
       "      <td>0.996750</td>\n",
       "      <td>3.310000</td>\n",
       "      <td>0.620000</td>\n",
       "      <td>10.200000</td>\n",
       "      <td>6.000000</td>\n",
       "    </tr>\n",
       "    <tr>\n",
       "      <th>75%</th>\n",
       "      <td>9.200000</td>\n",
       "      <td>0.640000</td>\n",
       "      <td>0.420000</td>\n",
       "      <td>2.600000</td>\n",
       "      <td>0.090000</td>\n",
       "      <td>21.000000</td>\n",
       "      <td>62.000000</td>\n",
       "      <td>0.997835</td>\n",
       "      <td>3.400000</td>\n",
       "      <td>0.730000</td>\n",
       "      <td>11.100000</td>\n",
       "      <td>6.000000</td>\n",
       "    </tr>\n",
       "    <tr>\n",
       "      <th>max</th>\n",
       "      <td>15.900000</td>\n",
       "      <td>1.580000</td>\n",
       "      <td>1.000000</td>\n",
       "      <td>15.500000</td>\n",
       "      <td>0.611000</td>\n",
       "      <td>72.000000</td>\n",
       "      <td>289.000000</td>\n",
       "      <td>1.003690</td>\n",
       "      <td>4.010000</td>\n",
       "      <td>2.000000</td>\n",
       "      <td>14.900000</td>\n",
       "      <td>8.000000</td>\n",
       "    </tr>\n",
       "  </tbody>\n",
       "</table>\n",
       "</div>"
      ],
      "text/plain": [
       "       fixed acidity  volatile acidity  citric acid  residual sugar  \\\n",
       "count    1599.000000       1599.000000  1599.000000     1599.000000   \n",
       "mean        8.319637          0.527821     0.270976        2.538806   \n",
       "std         1.741096          0.179060     0.194801        1.409928   \n",
       "min         4.600000          0.120000     0.000000        0.900000   \n",
       "25%         7.100000          0.390000     0.090000        1.900000   \n",
       "50%         7.900000          0.520000     0.260000        2.200000   \n",
       "75%         9.200000          0.640000     0.420000        2.600000   \n",
       "max        15.900000          1.580000     1.000000       15.500000   \n",
       "\n",
       "         chlorides  free sulfur dioxide  total sulfur dioxide      density  \\\n",
       "count  1599.000000          1599.000000           1599.000000  1599.000000   \n",
       "mean      0.087467            15.874922             46.467792     0.996747   \n",
       "std       0.047065            10.460157             32.895324     0.001887   \n",
       "min       0.012000             1.000000              6.000000     0.990070   \n",
       "25%       0.070000             7.000000             22.000000     0.995600   \n",
       "50%       0.079000            14.000000             38.000000     0.996750   \n",
       "75%       0.090000            21.000000             62.000000     0.997835   \n",
       "max       0.611000            72.000000            289.000000     1.003690   \n",
       "\n",
       "                pH    sulphates      alcohol      quality  \n",
       "count  1599.000000  1599.000000  1599.000000  1599.000000  \n",
       "mean      3.311113     0.658149    10.422983     5.636023  \n",
       "std       0.154386     0.169507     1.065668     0.807569  \n",
       "min       2.740000     0.330000     8.400000     3.000000  \n",
       "25%       3.210000     0.550000     9.500000     5.000000  \n",
       "50%       3.310000     0.620000    10.200000     6.000000  \n",
       "75%       3.400000     0.730000    11.100000     6.000000  \n",
       "max       4.010000     2.000000    14.900000     8.000000  "
      ]
     },
     "execution_count": 56,
     "metadata": {},
     "output_type": "execute_result"
    }
   ],
   "source": [
    "# Code here\n",
    "df = pd.read_csv('A2_winequality-red.csv')\n",
    "\n",
    "print(df.head())\n",
    "df.describe()"
   ]
  },
  {
   "cell_type": "markdown",
   "id": "1d2052de",
   "metadata": {},
   "source": [
    "### 2. Prepare the data by extracting features and labels\n",
    "\n",
    "Extract features (`X`) and labels (`y`). You can do this in several ways, the following is an example:\n",
    "\n",
    "```python\n",
    "# This will exclude the 'quality' column from features and return the result\n",
    "# Save the result to a variable named X to extract the features\n",
    "df.drop('quality', axis=1)\n",
    "\n",
    "# This will extract the 'quality' column as the target variable and return the result\n",
    "# Save the result to a variable named y to extract the labels\n",
    "df['quality']  \n",
    "```\n",
    "\n",
    "It's harder to predict on a 1-10 scale. To slim our problem down to only predict the quality in a 1-5 scale instead you can type `y = round(y/2)`.\n",
    "\n",
    "To validate your results you can use `print` tou output `X.shape` and `y.shape` and you should get this result:\n",
    "\n",
    "```\n",
    "Shape of features (X): (1599, 11)\n",
    "Shape of labels (y): (1599,)\n",
    "```"
   ]
  },
  {
   "cell_type": "code",
   "execution_count": 57,
   "id": "0b615829",
   "metadata": {},
   "outputs": [
    {
     "name": "stdout",
     "output_type": "stream",
     "text": [
      "(1599, 11)\n",
      "(1599,)\n"
     ]
    }
   ],
   "source": [
    "# Code here\n",
    "X = df.drop('quality', axis=1)\n",
    "y = df['quality']\n",
    "y = round(y/2)\n",
    "\n",
    "print(X.shape)\n",
    "print(y.shape)"
   ]
  },
  {
   "cell_type": "markdown",
   "id": "02497fd4",
   "metadata": {},
   "source": [
    "### 3. Split data into training and testing sets\n",
    "\n",
    "Use `train_test_split` as I did in my example. Save the result to the variables `X_train, X_test, y_train, y_test`"
   ]
  },
  {
   "cell_type": "code",
   "execution_count": 58,
   "id": "ff63d9fc",
   "metadata": {},
   "outputs": [],
   "source": [
    "# Code here\n",
    "X_train, X_test, y_train, y_test = train_test_split(X, y, test_size=0.2, random_state=12)"
   ]
  },
  {
   "cell_type": "markdown",
   "id": "bbc5ade2",
   "metadata": {},
   "source": [
    "#### 3.1 Check if the dataset is balanced or unbalanced\n",
    "\n",
    "Run the following code to get avisual representation of the distribution of each label."
   ]
  },
  {
   "cell_type": "code",
   "execution_count": 59,
   "id": "ddfd1683",
   "metadata": {},
   "outputs": [
    {
     "data": {
      "image/png": "[encoded data removed]",
      "text/plain": [
       "<Figure size 640x480 with 1 Axes>"
      ]
     },
     "metadata": {},
     "output_type": "display_data"
    }
   ],
   "source": [
    "def visualize_data_distribution(y, title=\"Data distribution\"):\n",
    "    n_classes = 5\n",
    "    quality_scores = [i for i in range(n_classes + 1)]\n",
    "    n_data_points = [(y == score).sum() for score in quality_scores]\n",
    "\n",
    "    # Plot the bar chart\n",
    "    plt.bar(quality_scores, n_data_points)\n",
    "    plt.xlabel(\"Wine quality class\")\n",
    "    plt.ylabel(\"Frequency\")\n",
    "    plt.title(f\"{title}\")\n",
    "    plt.show()\n",
    "    \n",
    "visualize_data_distribution(y_train, title=\"Original training data distibution\")"
   ]
  },
  {
   "cell_type": "markdown",
   "id": "b04d5b6f",
   "metadata": {},
   "source": [
    "As you can see the dataset is heavliy unbalanced and there is an unequal distribution of classes. Very low amount of datapoints are seen in the low and high quality wines, compared to the medium quality wines. This is problematic, since creating a machnie learning model that only guesses medium quality each time would probably result in a very high accuracy.\n",
    "\n",
    "There are two common ways to fix this problem:\n",
    "1. **Undersampling**: This technique simply takes the same amount of datapoints from each class. In this particular case, this means reducing the data amount in the overrepresented classed by simply discarding datapoints.\n",
    "2. **Oversampling**: This is the process of taking more samples in the underrepresented classes, either by generating new synthetic datapoints or by copying the already existing several times. \n",
    "\n",
    "Note also that there are no samples labeled with 0, 2, or 5, you can verify that by running this code: "
   ]
  },
  {
   "cell_type": "code",
   "execution_count": 60,
   "id": "e1cffa30",
   "metadata": {},
   "outputs": [
    {
     "name": "stdout",
     "output_type": "stream",
     "text": [
      "2.0    744\n",
      "3.0    638\n",
      "4.0    217\n",
      "Name: quality, dtype: int64\n"
     ]
    }
   ],
   "source": [
    "label_counts = y.value_counts()\n",
    "\n",
    "print(label_counts)"
   ]
  },
  {
   "cell_type": "markdown",
   "id": "7299c774",
   "metadata": {},
   "source": [
    "#### 3.2 Oversampling\n",
    "\n",
    "In the code below, oversampling is implemented by generating new synthetic datasamples of the underrepresented classes using a common technique called Synthetic Minority Over-sampling Technique (or SMOTE). You can read more about this technique on https://www.kdnuggets.com/2019/05/fix-unbalanced-dataset.html."
   ]
  },
  {
   "cell_type": "code",
   "execution_count": 61,
   "id": "9d41ad56",
   "metadata": {},
   "outputs": [
    {
     "data": {
      "image/png": "[encoded data removed]",
      "text/plain": [
       "<Figure size 640x480 with 1 Axes>"
      ]
     },
     "metadata": {},
     "output_type": "display_data"
    }
   ],
   "source": [
    "# Resample the minority class. You can change the strategy to 'auto' if you are not sure.\n",
    "sm = SMOTE(sampling_strategy=\"auto\")\n",
    "\n",
    "# Fit the model to generate the data\n",
    "X_train_oversampled, Y_train_oversampled = sm.fit_resample(X_train, y_train)\n",
    "\n",
    "# Visualize the new oversampled distribution\n",
    "visualize_data_distribution(Y_train_oversampled, \"Oversampled training data distrubution\")"
   ]
  },
  {
   "cell_type": "code",
   "execution_count": 62,
   "id": "1d52f0b4",
   "metadata": {},
   "outputs": [],
   "source": [
    "# apply the new oversampled data to x_train and y_train variables\n",
    "X_train = X_train_oversampled\n",
    "y_train = Y_train_oversampled"
   ]
  },
  {
   "cell_type": "markdown",
   "id": "94c5f266",
   "metadata": {},
   "source": [
    "#### 3.3 scale the features to the same range\n",
    "\n",
    "To improve model performance, we want to scale the data so that teh features are within the same range. To do this, we can use the `StandardScaler` from sklearn, which scales the features to have the same standard deviation.\n",
    "\n",
    "It is very important to keep in mind that this scaling should be fit to the training set only, since it can be considereed as part of the model. it is a common mistake to fit the scaler onto the complete dataset, which could be considered \"cheating\" since the model than has used data from the testing set during training."
   ]
  },
  {
   "cell_type": "code",
   "execution_count": 63,
   "id": "55a5d1b7",
   "metadata": {},
   "outputs": [],
   "source": [
    "scaler = StandardScaler()\n",
    "\n",
    "# Fit to training data only\n",
    "scaler.fit(X_train)\n",
    "\n",
    "# Then, use the fit parameters to transform both test and train data\n",
    "X_train_scaled = scaler.transform(X_train)\n",
    "X_test_scaled = scaler.transform(X_test)"
   ]
  },
  {
   "cell_type": "markdown",
   "id": "802d1453",
   "metadata": {},
   "source": [
    "### 4. Create an instance of the classifier and fit the model to the training data\n",
    "\n",
    "Use other models as well such as Support Vector Classifier (SVC) and K-Nearest Neighbors Classifier (KNN)\n",
    "\n",
    "To create an instance to train and predict, you just call its constructor and save it to a variable with a fitting name. In my example I used `clf = DecisionTreeClassifier()`. Do the same with the following:\n",
    "\n",
    "- `DecisionTreeRegressor()`\n",
    "- `SVC()`\n",
    "- `KNeighborsClassifier()`\n",
    "\n",
    "After that, use the `fit`function to train your models."
   ]
  },
  {
   "cell_type": "code",
   "execution_count": 64,
   "id": "7f9f2c6a",
   "metadata": {},
   "outputs": [
    {
     "data": {
      "text/html": [
       "<style>#sk-container-id-4 {color: black;background-color: white;}#sk-container-id-4 pre{padding: 0;}#sk-container-id-4 div.sk-toggleable {background-color: white;}#sk-container-id-4 label.sk-toggleable__label {cursor: pointer;display: block;width: 100%;margin-bottom: 0;padding: 0.3em;box-sizing: border-box;text-align: center;}#sk-container-id-4 label.sk-toggleable__label-arrow:before {content: \"▸\";float: left;margin-right: 0.25em;color: #696969;}#sk-container-id-4 label.sk-toggleable__label-arrow:hover:before {color: black;}#sk-container-id-4 div.sk-estimator:hover label.sk-toggleable__label-arrow:before {color: black;}#sk-container-id-4 div.sk-toggleable__content {max-height: 0;max-width: 0;overflow: hidden;text-align: left;background-color: #f0f8ff;}#sk-container-id-4 div.sk-toggleable__content pre {margin: 0.2em;color: black;border-radius: 0.25em;background-color: #f0f8ff;}#sk-container-id-4 input.sk-toggleable__control:checked~div.sk-toggleable__content {max-height: 200px;max-width: 100%;overflow: auto;}#sk-container-id-4 input.sk-toggleable__control:checked~label.sk-toggleable__label-arrow:before {content: \"▾\";}#sk-container-id-4 div.sk-estimator input.sk-toggleable__control:checked~label.sk-toggleable__label {background-color: #d4ebff;}#sk-container-id-4 div.sk-label input.sk-toggleable__control:checked~label.sk-toggleable__label {background-color: #d4ebff;}#sk-container-id-4 input.sk-hidden--visually {border: 0;clip: rect(1px 1px 1px 1px);clip: rect(1px, 1px, 1px, 1px);height: 1px;margin: -1px;overflow: hidden;padding: 0;position: absolute;width: 1px;}#sk-container-id-4 div.sk-estimator {font-family: monospace;background-color: #f0f8ff;border: 1px dotted black;border-radius: 0.25em;box-sizing: border-box;margin-bottom: 0.5em;}#sk-container-id-4 div.sk-estimator:hover {background-color: #d4ebff;}#sk-container-id-4 div.sk-parallel-item::after {content: \"\";width: 100%;border-bottom: 1px solid gray;flex-grow: 1;}#sk-container-id-4 div.sk-label:hover label.sk-toggleable__label {background-color: #d4ebff;}#sk-container-id-4 div.sk-serial::before {content: \"\";position: absolute;border-left: 1px solid gray;box-sizing: border-box;top: 0;bottom: 0;left: 50%;z-index: 0;}#sk-container-id-4 div.sk-serial {display: flex;flex-direction: column;align-items: center;background-color: white;padding-right: 0.2em;padding-left: 0.2em;position: relative;}#sk-container-id-4 div.sk-item {position: relative;z-index: 1;}#sk-container-id-4 div.sk-parallel {display: flex;align-items: stretch;justify-content: center;background-color: white;position: relative;}#sk-container-id-4 div.sk-item::before, #sk-container-id-4 div.sk-parallel-item::before {content: \"\";position: absolute;border-left: 1px solid gray;box-sizing: border-box;top: 0;bottom: 0;left: 50%;z-index: -1;}#sk-container-id-4 div.sk-parallel-item {display: flex;flex-direction: column;z-index: 1;position: relative;background-color: white;}#sk-container-id-4 div.sk-parallel-item:first-child::after {align-self: flex-end;width: 50%;}#sk-container-id-4 div.sk-parallel-item:last-child::after {align-self: flex-start;width: 50%;}#sk-container-id-4 div.sk-parallel-item:only-child::after {width: 0;}#sk-container-id-4 div.sk-dashed-wrapped {border: 1px dashed gray;margin: 0 0.4em 0.5em 0.4em;box-sizing: border-box;padding-bottom: 0.4em;background-color: white;}#sk-container-id-4 div.sk-label label {font-family: monospace;font-weight: bold;display: inline-block;line-height: 1.2em;}#sk-container-id-4 div.sk-label-container {text-align: center;}#sk-container-id-4 div.sk-container {/* jupyter's `normalize.less` sets `[hidden] { display: none; }` but bootstrap.min.css set `[hidden] { display: none !important; }` so we also need the `!important` here to be able to override the default hidden behavior on the sphinx rendered scikit-learn.org. See: https://github.com/scikit-learn/scikit-learn/issues/21755 */display: inline-block !important;position: relative;}#sk-container-id-4 div.sk-text-repr-fallback {display: none;}</style><div id=\"sk-container-id-4\" class=\"sk-top-container\"><div class=\"sk-text-repr-fallback\"><pre>KNeighborsClassifier()</pre><b>In a Jupyter environment, please rerun this cell to show the HTML representation or trust the notebook. <br />On GitHub, the HTML representation is unable to render, please try loading this page with nbviewer.org.</b></div><div class=\"sk-container\" hidden><div class=\"sk-item\"><div class=\"sk-estimator sk-toggleable\"><input class=\"sk-toggleable__control sk-hidden--visually\" id=\"sk-estimator-id-4\" type=\"checkbox\" checked><label for=\"sk-estimator-id-4\" class=\"sk-toggleable__label sk-toggleable__label-arrow\">KNeighborsClassifier</label><div class=\"sk-toggleable__content\"><pre>KNeighborsClassifier()</pre></div></div></div></div></div>"
      ],
      "text/plain": [
       "KNeighborsClassifier()"
      ]
     },
     "execution_count": 64,
     "metadata": {},
     "output_type": "execute_result"
    }
   ],
   "source": [
    "# Code here\n",
    "clf_DTC = DecisionTreeClassifier()\n",
    "clf_DTC.fit(X_train_scaled, Y_train_oversampled)\n",
    "\n",
    "clf_SVC = SVC()\n",
    "clf_SVC.fit(X_train_scaled, Y_train_oversampled)\n",
    "\n",
    "clf_KNC = KNeighborsClassifier()\n",
    "clf_KNC.fit(X_train_scaled, Y_train_oversampled)"
   ]
  },
  {
   "cell_type": "markdown",
   "id": "01f90ee4",
   "metadata": {},
   "source": [
    "### 5. Make predictions on the testing set\n",
    "\n",
    "Use `predict` on the text data to make predictions on data that wasn't in the training set."
   ]
  },
  {
   "cell_type": "code",
   "execution_count": 65,
   "id": "72f4e85f",
   "metadata": {},
   "outputs": [],
   "source": [
    "# Code here\n",
    "y_pred_DTC = clf_DTC.predict(X_test_scaled)\n",
    "y_pred_SVC = clf_SVC.predict(X_test_scaled)\n",
    "y_pred_KNC = clf_KNC.predict(X_test_scaled)"
   ]
  },
  {
   "cell_type": "markdown",
   "id": "be46a74a",
   "metadata": {},
   "source": [
    "### 6. Evaluate the performance of the model \n",
    "\n",
    "Use accuracy, precision, recall, and F1 score and do the same with your other models to compare them.\n",
    "\n",
    "Follow my example to calculate metrics such as `accuracy`, `precision`, `recall`, and `f1_score` for all three of your models.\n",
    "\n",
    "Print your results to compare the models. Which one performed best? Is any of the models suitable for predicting the wine quality?\n",
    "\n",
    "> You may get this error `UndefinedMetricWarning: Precision is ill-defined and being set to 0.0 in labels with no predicted samples`. This indicates that there are certain labels in the test set that have no predicted samples, leading to undefined precision values for those labels. To handle this warning, you can set the zero_division parameter to control the behavior when encountering such cases. Add the parameter `zero_division=1` to your `precision_score` function calls)"
   ]
  },
  {
   "cell_type": "code",
   "execution_count": 70,
   "id": "e9da4898",
   "metadata": {},
   "outputs": [
    {
     "name": "stdout",
     "output_type": "stream",
     "text": [
      "DecisionTreeClassifier\n",
      "Accuracy: 0.65312\n",
      "Precision: 0.65842\n",
      "Recall: 0.65312\n",
      "F1 Score: 0.65466\n",
      "\n",
      "SVC\n",
      "Accuracy: 0.64062\n",
      "Precision: 0.64475\n",
      "Recall: 0.64062\n",
      "F1 Score: 0.63874\n",
      "\n",
      "KNeighborsClassifier\n",
      "Accuracy: 0.57188\n",
      "Precision: 0.57844\n",
      "Recall: 0.57188\n",
      "F1 Score: 0.57286\n"
     ]
    }
   ],
   "source": [
    "# Code here\n",
    "print('DecisionTreeClassifier')\n",
    "eval_performance(y_test, y_pred_DTC)\n",
    "\n",
    "print('\\nSVC')\n",
    "eval_performance(y_test, y_pred_SVC)\n",
    "\n",
    "print('\\nKNeighborsClassifier')\n",
    "eval_performance(y_test, y_pred_KNC)"
   ]
  },
  {
   "cell_type": "markdown",
   "id": "2e435464",
   "metadata": {},
   "source": [
    "### 7. Confusion matrix and classification reports\n",
    "\n",
    "Use `create_confusion_matrix()` and `classification_report()` to evaluate further and compare your models\n",
    "\n",
    "> Sometimes, you may get the same error about *ill-defined Precision and F-score*. By adding the parameter `zero_division=1` to your `classification_report` calls. When you add the parameter `zero_division=1` to the `classification_report` function calls, it controls the behavior for labels with no predicted samples. By setting `zero_division` to 1, the precision and F1 score for such labels will be assigned a value of 0 by default, instead of raising the `UndefinedMetricWarning` and setting the values to 0.0.\n",
    "\n",
    "Notice that the Confusion Matix only displays the labels 1, 2, and 3. This is because there are only 3 labels in our dataset (the labels are the wine quality classes, which are 2, 3, and 4). This means that a 1 in the confusion matrix represents a 2 in the dataset and since we changed our scale from 1-10 to 1-5 a 1 in the confusion matrix might actually represent a 3 or a 4 from the original dataset."
   ]
  },
  {
   "cell_type": "code",
   "execution_count": 87,
   "id": "46ecd49a",
   "metadata": {
    "scrolled": false
   },
   "outputs": [
    {
     "name": "stdout",
     "output_type": "stream",
     "text": [
      "              precision    recall  f1-score   support\n",
      "\n",
      "         2.0       0.74      0.73      0.74       146\n",
      "         3.0       0.63      0.59      0.61       133\n",
      "         4.0       0.47      0.59      0.52        41\n",
      "\n",
      "    accuracy                           0.65       320\n",
      "   macro avg       0.61      0.63      0.62       320\n",
      "weighted avg       0.66      0.65      0.65       320\n",
      "\n",
      "              precision    recall  f1-score   support\n",
      "\n",
      "         2.0       0.73      0.76      0.74       146\n",
      "         3.0       0.60      0.50      0.55       133\n",
      "         4.0       0.47      0.66      0.55        41\n",
      "\n",
      "    accuracy                           0.64       320\n",
      "   macro avg       0.60      0.64      0.62       320\n",
      "weighted avg       0.64      0.64      0.64       320\n",
      "\n",
      "              precision    recall  f1-score   support\n",
      "\n",
      "         2.0       0.67      0.66      0.66       146\n",
      "         3.0       0.53      0.47      0.50       133\n",
      "         4.0       0.42      0.59      0.49        41\n",
      "\n",
      "    accuracy                           0.57       320\n",
      "   macro avg       0.54      0.57      0.55       320\n",
      "weighted avg       0.58      0.57      0.57       320\n",
      "\n"
     ]
    },
    {
     "data": {
      "image/png": "[encoded data removed]",
      "text/plain": [
       "<Figure size 500x500 with 2 Axes>"
      ]
     },
     "metadata": {},
     "output_type": "display_data"
    },
    {
     "data": {
      "image/png": "[encoded data removed]",
      "text/plain": [
       "<Figure size 500x500 with 2 Axes>"
      ]
     },
     "metadata": {},
     "output_type": "display_data"
    },
    {
     "data": {
      "image/png": "[encoded data removed]",
      "text/plain": [
       "<Figure size 500x500 with 2 Axes>"
      ]
     },
     "metadata": {},
     "output_type": "display_data"
    }
   ],
   "source": [
    "# Code here\n",
    "create_confusion_matrix(y_test, y_pred_DTC, 3)\n",
    "print(classification_report(y_test, y_pred_DTC))\n",
    "\n",
    "create_confusion_matrix(y_test, y_pred_SVC, 3)\n",
    "print(classification_report(y_test, y_pred_SVC))\n",
    "\n",
    "create_confusion_matrix(y_test, y_pred_KNC, 3)\n",
    "print(classification_report(y_test, y_pred_KNC))"
   ]
  },
  {
   "cell_type": "markdown",
   "id": "49540271",
   "metadata": {},
   "source": [
    "## Complete!\n",
    "\n",
    "Submit your work by pushing the changes to Github, inviting the teacher/s to your repository and submitting this link on ItsLearning under Assignment 2."
   ]
  }
 ],
 "metadata": {
  "kernelspec": {
   "display_name": "Python 3 (ipykernel)",
   "language": "python",
   "name": "python3"
  },
  "language_info": {
   "codemirror_mode": {
    "name": "ipython",
    "version": 3
   },
   "file_extension": ".py",
   "mimetype": "text/x-python",
   "name": "python",
   "nbconvert_exporter": "python",
   "pygments_lexer": "ipython3",
   "version": "3.11.4"
  }
 },
 "nbformat": 4,
 "nbformat_minor": 5
}
